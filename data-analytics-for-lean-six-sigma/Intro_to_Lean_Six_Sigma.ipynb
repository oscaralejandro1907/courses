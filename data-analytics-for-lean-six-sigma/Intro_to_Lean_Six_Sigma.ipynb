{
  "nbformat": 4,
  "nbformat_minor": 0,
  "metadata": {
    "colab": {
      "provenance": [],
      "authorship_tag": "ABX9TyOufj12qLe846KZmwFOXWSc",
      "include_colab_link": true
    },
    "kernelspec": {
      "name": "python3",
      "display_name": "Python 3"
    },
    "language_info": {
      "name": "python"
    }
  },
  "cells": [
    {
      "cell_type": "markdown",
      "metadata": {
        "id": "view-in-github",
        "colab_type": "text"
      },
      "source": [
        "<a href=\"https://colab.research.google.com/github/oscaralejandro1907/courses/blob/main/Intro_to_Lean_Six_Sigma.ipynb\" target=\"_parent\"><img src=\"https://colab.research.google.com/assets/colab-badge.svg\" alt=\"Open In Colab\"/></a>"
      ]
    },
    {
      "cell_type": "markdown",
      "source": [
        "### Examples of Data within Lean Six Sigma\n",
        "\n",
        "To **find the biggest problems** you should focus on you can construct a **Pareto Chart**"
      ],
      "metadata": {
        "id": "jIg1rggjkwOD"
      }
    }
  ]
}
